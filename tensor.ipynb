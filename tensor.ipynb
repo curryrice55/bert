{
  "nbformat": 4,
  "nbformat_minor": 0,
  "metadata": {
    "colab": {
      "provenance": [],
      "authorship_tag": "ABX9TyNMe+w1cthA5oXrTyliEoCr",
      "include_colab_link": true
    },
    "kernelspec": {
      "name": "python3",
      "display_name": "Python 3"
    },
    "language_info": {
      "name": "python"
    }
  },
  "cells": [
    {
      "cell_type": "markdown",
      "metadata": {
        "id": "view-in-github",
        "colab_type": "text"
      },
      "source": [
        "<a href=\"https://colab.research.google.com/github/curryrice55/bert/blob/main/tensor.ipynb\" target=\"_parent\"><img src=\"https://colab.research.google.com/assets/colab-badge.svg\" alt=\"Open In Colab\"/></a>"
      ]
    },
    {
      "cell_type": "markdown",
      "source": [
        "Tensorの生成"
      ],
      "metadata": {
        "id": "T_YNlDkZqCUq"
      }
    },
    {
      "cell_type": "code",
      "execution_count": 2,
      "metadata": {
        "colab": {
          "base_uri": "https://localhost:8080/"
        },
        "id": "VYvWcS7ObZcw",
        "outputId": "2bdf83a9-6052-4431-b4c0-78a561fa99de"
      },
      "outputs": [
        {
          "output_type": "stream",
          "name": "stdout",
          "text": [
            "tensor([1, 2, 3]) <class 'torch.Tensor'>\n"
          ]
        }
      ],
      "source": [
        "import torch\n",
        "\n",
        "#create tensor from list\n",
        "tensor_list = torch.tensor([1,2,3])\n",
        "print(tensor_list, type(tensor_list))"
      ]
    },
    {
      "cell_type": "code",
      "source": [
        "#create tensor from 2d list\n",
        "tensor_2d_list = torch.tensor([[1,2],[3,4]])\n",
        "print(tensor_2d_list, type(tensor_2d_list),tensor_2d_list.dtype)\n",
        "\n",
        "#create tensor from 2d list (dtype=torch.float64)\n",
        "tensor_2d_list = torch.tensor([[1,2],[3,4]],dtype=torch.float64)\n",
        "print(tensor_2d_list, type(tensor_2d_list),tensor_2d_list.dtype)"
      ],
      "metadata": {
        "colab": {
          "base_uri": "https://localhost:8080/"
        },
        "id": "DqRVa39IclG_",
        "outputId": "7687d7bf-02a1-487f-f9f3-3c0358276549"
      },
      "execution_count": 6,
      "outputs": [
        {
          "output_type": "stream",
          "name": "stdout",
          "text": [
            "tensor([[1, 2],\n",
            "        [3, 4]]) <class 'torch.Tensor'> torch.int64\n",
            "tensor([[1., 2.],\n",
            "        [3., 4.]], dtype=torch.float64) <class 'torch.Tensor'> torch.float64\n"
          ]
        }
      ]
    },
    {
      "cell_type": "code",
      "source": [
        "print(\"---tensor inits from 0 to 9---\")\n",
        "print(torch.arange(0,10))\n",
        "\n",
        "print(\"---2 x 3tensor with all 0---\")\n",
        "print(torch.zeros(2,3))\n",
        "\n",
        "print(\"---2 x 3tensor with rand num---\")\n",
        "print(torch.rand(2,3))"
      ],
      "metadata": {
        "colab": {
          "base_uri": "https://localhost:8080/"
        },
        "id": "xTbXbp87iWx1",
        "outputId": "74d16a5f-95d6-448a-9aeb-73cd077ce8b1"
      },
      "execution_count": 11,
      "outputs": [
        {
          "output_type": "stream",
          "name": "stdout",
          "text": [
            "---tensor inits from 0 to 9---\n",
            "tensor([0, 1, 2, 3, 4, 5, 6, 7, 8, 9])\n",
            "---2 x 3tensor with all 0---\n",
            "tensor([[0., 0., 0.],\n",
            "        [0., 0., 0.]])\n",
            "---2 x 3tensor with rand num---\n",
            "tensor([[0.4195, 0.4026, 0.5145],\n",
            "        [0.7291, 0.0069, 0.2750]])\n"
          ]
        }
      ]
    },
    {
      "cell_type": "code",
      "source": [
        "print(\"---create 10 elements from -5 to 5---\")\n",
        "print(torch.linspace(-5,5,10))"
      ],
      "metadata": {
        "colab": {
          "base_uri": "https://localhost:8080/"
        },
        "id": "iAMax73ZlbmU",
        "outputId": "1b552cd6-dc72-4425-ba4a-5307d13650bc"
      },
      "execution_count": 13,
      "outputs": [
        {
          "output_type": "stream",
          "name": "stdout",
          "text": [
            "---create 10 elements from -5 to 5---\n",
            "tensor([-5.0000, -3.8889, -2.7778, -1.6667, -0.5556,  0.5556,  1.6667,  2.7778,\n",
            "         3.8889,  5.0000])\n"
          ]
        }
      ]
    },
    {
      "cell_type": "markdown",
      "source": [
        "view()によるTensor形状の変換"
      ],
      "metadata": {
        "id": "0_27d4cCp3Cr"
      }
    },
    {
      "cell_type": "code",
      "source": [
        "a = torch.arange(0,8) #1次元のTensor\n",
        "print(a)\n",
        "b = a.view(2,4) #(2,4)の2次元のTensorに変換\n",
        "print(b)"
      ],
      "metadata": {
        "colab": {
          "base_uri": "https://localhost:8080/"
        },
        "id": "VNdxmPkXnt1M",
        "outputId": "994dd21c-b439-4451-cdf8-cb47deb3ed41"
      },
      "execution_count": 15,
      "outputs": [
        {
          "output_type": "stream",
          "name": "stdout",
          "text": [
            "tensor([0, 1, 2, 3, 4, 5, 6, 7])\n"
          ]
        }
      ]
    },
    {
      "cell_type": "code",
      "source": [],
      "metadata": {
        "id": "zlTvsbn5p-oa"
      },
      "execution_count": null,
      "outputs": []
    }
  ]
}