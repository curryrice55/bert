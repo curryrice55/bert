{
  "nbformat": 4,
  "nbformat_minor": 0,
  "metadata": {
    "colab": {
      "provenance": [],
      "authorship_tag": "ABX9TyOCH60a35a8TThM4veXHHTU",
      "include_colab_link": true
    },
    "kernelspec": {
      "name": "python3",
      "display_name": "Python 3"
    },
    "language_info": {
      "name": "python"
    }
  },
  "cells": [
    {
      "cell_type": "markdown",
      "metadata": {
        "id": "view-in-github",
        "colab_type": "text"
      },
      "source": [
        "<a href=\"https://colab.research.google.com/github/curryrice55/bert/blob/main/tensor.ipynb\" target=\"_parent\"><img src=\"https://colab.research.google.com/assets/colab-badge.svg\" alt=\"Open In Colab\"/></a>"
      ]
    },
    {
      "cell_type": "code",
      "execution_count": 2,
      "metadata": {
        "colab": {
          "base_uri": "https://localhost:8080/"
        },
        "id": "VYvWcS7ObZcw",
        "outputId": "2bdf83a9-6052-4431-b4c0-78a561fa99de"
      },
      "outputs": [
        {
          "output_type": "stream",
          "name": "stdout",
          "text": [
            "tensor([1, 2, 3]) <class 'torch.Tensor'>\n"
          ]
        }
      ],
      "source": [
        "import torch\n",
        "\n",
        "#create tensor from list\n",
        "tensor_list = torch.tensor([1,2,3])\n",
        "print(tensor_list, type(tensor_list))"
      ]
    },
    {
      "cell_type": "code",
      "source": [
        "#create tensor from list\n",
        "tensor_2d_list = torch.tensor([[1,2],[3,4]])\n",
        "print(tensor_2d_list, type(tensor_2d_list),tensor_2d_list.dtype)"
      ],
      "metadata": {
        "colab": {
          "base_uri": "https://localhost:8080/"
        },
        "id": "DqRVa39IclG_",
        "outputId": "4d8cfb93-131e-4f83-a4f0-9f12282b7a19"
      },
      "execution_count": 5,
      "outputs": [
        {
          "output_type": "stream",
          "name": "stdout",
          "text": [
            "tensor([[1, 2],\n",
            "        [3, 4]]) <class 'torch.Tensor'> torch.int64\n"
          ]
        }
      ]
    },
    {
      "cell_type": "code",
      "source": [],
      "metadata": {
        "id": "xTbXbp87iWx1"
      },
      "execution_count": null,
      "outputs": []
    }
  ]
}