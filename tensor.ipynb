{
  "nbformat": 4,
  "nbformat_minor": 0,
  "metadata": {
    "colab": {
      "provenance": [],
      "authorship_tag": "ABX9TyPjoVqeJ+NKnOiyrVXI1jQm",
      "include_colab_link": true
    },
    "kernelspec": {
      "name": "python3",
      "display_name": "Python 3"
    },
    "language_info": {
      "name": "python"
    }
  },
  "cells": [
    {
      "cell_type": "markdown",
      "metadata": {
        "id": "view-in-github",
        "colab_type": "text"
      },
      "source": [
        "<a href=\"https://colab.research.google.com/github/curryrice55/bert/blob/main/tensor.ipynb\" target=\"_parent\"><img src=\"https://colab.research.google.com/assets/colab-badge.svg\" alt=\"Open In Colab\"/></a>"
      ]
    },
    {
      "cell_type": "markdown",
      "source": [
        "Tensorの生成"
      ],
      "metadata": {
        "id": "T_YNlDkZqCUq"
      }
    },
    {
      "cell_type": "code",
      "execution_count": 12,
      "metadata": {
        "colab": {
          "base_uri": "https://localhost:8080/"
        },
        "id": "VYvWcS7ObZcw",
        "outputId": "5f082efe-1380-4c72-8148-2f8fe2214079"
      },
      "outputs": [
        {
          "output_type": "stream",
          "name": "stdout",
          "text": [
            "tensor([1, 2, 3]) <class 'torch.Tensor'>\n"
          ]
        }
      ],
      "source": [
        "import torch\n",
        "\n",
        "#create tensor from list\n",
        "tensor_list = torch.tensor([1,2,3])\n",
        "print(tensor_list, type(tensor_list))"
      ]
    },
    {
      "cell_type": "code",
      "source": [
        "#create tensor from 2d list\n",
        "tensor_2d_list = torch.tensor([[1,2],[3,4]])\n",
        "print(tensor_2d_list, type(tensor_2d_list),tensor_2d_list.dtype)\n",
        "\n",
        "#create tensor from 2d list (dtype=torch.float64)\n",
        "tensor_2d_list = torch.tensor([[1,2],[3,4]],dtype=torch.float64)\n",
        "print(tensor_2d_list, type(tensor_2d_list),tensor_2d_list.dtype)"
      ],
      "metadata": {
        "colab": {
          "base_uri": "https://localhost:8080/"
        },
        "id": "DqRVa39IclG_",
        "outputId": "3a66ae01-fa46-4165-afda-e396e35aff79"
      },
      "execution_count": 13,
      "outputs": [
        {
          "output_type": "stream",
          "name": "stdout",
          "text": [
            "tensor([[1, 2],\n",
            "        [3, 4]]) <class 'torch.Tensor'> torch.int64\n",
            "tensor([[1., 2.],\n",
            "        [3., 4.]], dtype=torch.float64) <class 'torch.Tensor'> torch.float64\n"
          ]
        }
      ]
    },
    {
      "cell_type": "code",
      "source": [
        "print(\"---tensor inits from 0 to 9---\")\n",
        "print(torch.arange(0,10))\n",
        "\n",
        "print(\"---2 x 3tensor with all 0---\")\n",
        "print(torch.zeros(2,3))\n",
        "\n",
        "print(\"---2 x 3tensor with rand num---\")\n",
        "print(torch.rand(2,3))"
      ],
      "metadata": {
        "colab": {
          "base_uri": "https://localhost:8080/"
        },
        "id": "xTbXbp87iWx1",
        "outputId": "bd557542-6177-49ac-9048-e4c4014d5308"
      },
      "execution_count": 14,
      "outputs": [
        {
          "output_type": "stream",
          "name": "stdout",
          "text": [
            "---tensor inits from 0 to 9---\n",
            "tensor([0, 1, 2, 3, 4, 5, 6, 7, 8, 9])\n",
            "---2 x 3tensor with all 0---\n",
            "tensor([[0., 0., 0.],\n",
            "        [0., 0., 0.]])\n",
            "---2 x 3tensor with rand num---\n",
            "tensor([[0.9335, 0.9002, 0.3513],\n",
            "        [0.8783, 0.6254, 0.1045]])\n"
          ]
        }
      ]
    },
    {
      "cell_type": "code",
      "source": [
        "print(\"---create 10 elements from -5 to 5---\")\n",
        "print(torch.linspace(-5,5,10))"
      ],
      "metadata": {
        "colab": {
          "base_uri": "https://localhost:8080/"
        },
        "id": "iAMax73ZlbmU",
        "outputId": "73ce8ec5-6765-4218-e047-b1a4b7ce51c4"
      },
      "execution_count": 15,
      "outputs": [
        {
          "output_type": "stream",
          "name": "stdout",
          "text": [
            "---create 10 elements from -5 to 5---\n",
            "tensor([-5.0000, -3.8889, -2.7778, -1.6667, -0.5556,  0.5556,  1.6667,  2.7778,\n",
            "         3.8889,  5.0000])\n"
          ]
        }
      ]
    },
    {
      "cell_type": "markdown",
      "source": [
        "view()によるTensor形状の変換"
      ],
      "metadata": {
        "id": "0_27d4cCp3Cr"
      }
    },
    {
      "cell_type": "code",
      "source": [
        "a = torch.arange(0,8) #1次元のTensor\n",
        "print(a)\n",
        "b = a.view(2,4) #(2,4)の2次元のTensorに変換\n",
        "print(b)"
      ],
      "metadata": {
        "colab": {
          "base_uri": "https://localhost:8080/"
        },
        "id": "VNdxmPkXnt1M",
        "outputId": "ee1b1d0d-c836-46e3-ec2b-c398bcbe3210"
      },
      "execution_count": 16,
      "outputs": [
        {
          "output_type": "stream",
          "name": "stdout",
          "text": [
            "tensor([0, 1, 2, 3, 4, 5, 6, 7])\n",
            "tensor([[0, 1, 2, 3],\n",
            "        [4, 5, 6, 7]])\n"
          ]
        }
      ]
    },
    {
      "cell_type": "code",
      "source": [
        "c = a.view(2,-1) #複数ある引数のうち1つを-1にすれば、その次元の要素数は自動で計算される=>(2,4)の2次元のTensorに変換\n",
        "print(c)"
      ],
      "metadata": {
        "colab": {
          "base_uri": "https://localhost:8080/"
        },
        "id": "zlTvsbn5p-oa",
        "outputId": "b1c6a582-7d65-45a4-e8b0-1410bdf15022"
      },
      "execution_count": 21,
      "outputs": [
        {
          "output_type": "stream",
          "name": "stdout",
          "text": [
            "tensor([[0, 1, 2, 3],\n",
            "        [4, 5, 6, 7]])\n"
          ]
        }
      ]
    },
    {
      "cell_type": "code",
      "source": [
        "d = c.view(-1) #引数を-1のみにするとTensorは1次元に変換される\n",
        "print(d)"
      ],
      "metadata": {
        "colab": {
          "base_uri": "https://localhost:8080/"
        },
        "id": "r6jna6imsj9p",
        "outputId": "af5581d1-7ede-4856-ac02-dcc9e33c175d"
      },
      "execution_count": 22,
      "outputs": [
        {
          "output_type": "stream",
          "name": "stdout",
          "text": [
            "tensor([0, 1, 2, 3, 4, 5, 6, 7])\n"
          ]
        }
      ]
    },
    {
      "cell_type": "markdown",
      "source": [
        "活性化関数"
      ],
      "metadata": {
        "id": "-JAc_T0d0xpn"
      }
    },
    {
      "cell_type": "code",
      "source": [
        "import torch\n",
        "from torch import nn\n",
        "import matplotlib.pyplot as plt\n",
        "\n",
        "m = nn.Sigmoid() #sigmoid\n",
        "m = nn.ReLU() # ReLU\n",
        "m = nn.GELU() # GELU\n",
        "m = nn.Tanh() #tanh\n",
        "x = torch.linspace(-10,10,50)\n",
        "y = m(x)\n",
        "plt.plot(x,y)\n",
        "plt.show()"
      ],
      "metadata": {
        "colab": {
          "base_uri": "https://localhost:8080/",
          "height": 430
        },
        "id": "T5cphiAAukOr",
        "outputId": "5f28688b-47ab-4acb-fc64-59214bf5bfb9"
      },
      "execution_count": 26,
      "outputs": [
        {
          "output_type": "display_data",
          "data": {
            "text/plain": [
              "<Figure size 640x480 with 1 Axes>"
            ],
            "image/png": "[encoded data removed]"
          },
          "metadata": {}
        }
      ]
    },
    {
      "cell_type": "markdown",
      "source": [
        "ソフトマックス関数"
      ],
      "metadata": {
        "id": "9EItMtg045oE"
      }
    },
    {
      "cell_type": "code",
      "source": [
        "import torch\n",
        "from torch import nn\n",
        "\n",
        "m = nn.Softmax(dim = -1)\n",
        "x = torch.tensor([[1.0,2.0,3.0],[3.0,2.0,1.0]])\n",
        "y = m(x)\n",
        "\n",
        "print(y)"
      ],
      "metadata": {
        "colab": {
          "base_uri": "https://localhost:8080/"
        },
        "id": "25tHOA-e4-tB",
        "outputId": "9bf03211-ff9f-4cd9-e2c3-843dcace7f8e"
      },
      "execution_count": 34,
      "outputs": [
        {
          "output_type": "stream",
          "name": "stdout",
          "text": [
            "tensor([[0.0900, 0.2447, 0.6652],\n",
            "        [0.6652, 0.2447, 0.0900]])\n"
          ]
        }
      ]
    },
    {
      "cell_type": "markdown",
      "source": [
        "損失関数"
      ],
      "metadata": {
        "id": "9mjTR97p2pV3"
      }
    },
    {
      "cell_type": "code",
      "source": [
        "import torch\n",
        "from torch import nn\n",
        "#平均二乗誤差\n",
        "y = torch.tensor([3.0, 3.0, 3.0]) #出力\n",
        "t = torch.tensor([2.0, 2.0, 2.0]) #正解\n",
        "\n",
        "loss_func = nn.MSELoss() # 平均二乗誤差\n",
        "loss = loss_func(y,t)\n",
        "print(loss.item())"
      ],
      "metadata": {
        "colab": {
          "base_uri": "https://localhost:8080/"
        },
        "id": "QPlEnJ5T1Owu",
        "outputId": "56a7a169-1460-4aed-bc6d-7dcb73d75a9d"
      },
      "execution_count": 27,
      "outputs": [
        {
          "output_type": "stream",
          "name": "stdout",
          "text": [
            "1.0\n"
          ]
        }
      ]
    },
    {
      "cell_type": "code",
      "source": [
        "#交差エントロピー誤差\n",
        "#softmax関数への入力\n",
        "x = torch.tensor([[1.0,2.0,3.0],  #入力1\n",
        "                  [3.0,2.0,1.0]]) #入力2\n",
        "\n",
        "#正解(one-hot表現における1の位置)\n",
        "\n",
        "t = torch.tensor([2,  #入力1に対応する正解\n",
        "                  0]) #入力2に対応する正解\n",
        "\n",
        "loss_func = nn.CrossEntropyLoss() # softmax関数 + 交差エントロピー誤差\n",
        "loss = loss_func(x,t)\n",
        "print(loss.item())"
      ],
      "metadata": {
        "colab": {
          "base_uri": "https://localhost:8080/"
        },
        "id": "jqgfIvxE38aH",
        "outputId": "58ef685b-604a-4f4a-8265-4cb18a07f081"
      },
      "execution_count": 37,
      "outputs": [
        {
          "output_type": "stream",
          "name": "stdout",
          "text": [
            "0.40760594606399536\n"
          ]
        }
      ]
    },
    {
      "cell_type": "code",
      "source": [],
      "metadata": {
        "id": "eotWF9Hv6Vup"
      },
      "execution_count": null,
      "outputs": []
    }
  ]
}